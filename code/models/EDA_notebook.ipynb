{
 "cells": [
  {
   "cell_type": "code",
   "execution_count": 2,
   "id": "ed5b20994ebf565e",
   "metadata": {
    "ExecuteTime": {
     "end_time": "2024-09-21T09:09:36.456296Z",
     "start_time": "2024-09-21T09:09:36.449996Z"
    }
   },
   "outputs": [
    {
     "name": "stderr",
     "output_type": "stream",
     "text": [
      "/var/folders/9k/3f86r_td4ygg_zflr8hnwkjr0000gn/T/ipykernel_32264/4080736814.py:1: DeprecationWarning: \n",
      "Pyarrow will become a required dependency of pandas in the next major release of pandas (pandas 3.0),\n",
      "(to allow more performant data types, such as the Arrow string type, and better interoperability with other libraries)\n",
      "but was not found to be installed on your system.\n",
      "If this would cause problems for you,\n",
      "please provide us feedback at https://github.com/pandas-dev/pandas/issues/54466\n",
      "        \n",
      "  import pandas as pd\n"
     ]
    }
   ],
   "source": [
    "import pandas as pd"
   ]
  },
  {
   "cell_type": "code",
   "execution_count": 3,
   "id": "initial_id",
   "metadata": {
    "ExecuteTime": {
     "end_time": "2024-09-21T09:09:36.482317Z",
     "start_time": "2024-09-21T09:09:36.469625Z"
    },
    "collapsed": true
   },
   "outputs": [
    {
     "data": {
      "text/html": [
       "<div>\n",
       "<style scoped>\n",
       "    .dataframe tbody tr th:only-of-type {\n",
       "        vertical-align: middle;\n",
       "    }\n",
       "\n",
       "    .dataframe tbody tr th {\n",
       "        vertical-align: top;\n",
       "    }\n",
       "\n",
       "    .dataframe thead th {\n",
       "        text-align: right;\n",
       "    }\n",
       "</style>\n",
       "<table border=\"1\" class=\"dataframe\">\n",
       "  <thead>\n",
       "    <tr style=\"text-align: right;\">\n",
       "      <th></th>\n",
       "      <th>Car_Name</th>\n",
       "      <th>Year</th>\n",
       "      <th>Selling_Price</th>\n",
       "      <th>Present_Price</th>\n",
       "      <th>Kms_Driven</th>\n",
       "      <th>Fuel_Type</th>\n",
       "      <th>Seller_Type</th>\n",
       "      <th>Transmission</th>\n",
       "      <th>Owner</th>\n",
       "    </tr>\n",
       "  </thead>\n",
       "  <tbody>\n",
       "    <tr>\n",
       "      <th>0</th>\n",
       "      <td>ritz</td>\n",
       "      <td>2014</td>\n",
       "      <td>3.35</td>\n",
       "      <td>5.59</td>\n",
       "      <td>27000</td>\n",
       "      <td>Petrol</td>\n",
       "      <td>Dealer</td>\n",
       "      <td>Manual</td>\n",
       "      <td>0</td>\n",
       "    </tr>\n",
       "    <tr>\n",
       "      <th>1</th>\n",
       "      <td>sx4</td>\n",
       "      <td>2013</td>\n",
       "      <td>4.75</td>\n",
       "      <td>9.54</td>\n",
       "      <td>43000</td>\n",
       "      <td>Diesel</td>\n",
       "      <td>Dealer</td>\n",
       "      <td>Manual</td>\n",
       "      <td>0</td>\n",
       "    </tr>\n",
       "    <tr>\n",
       "      <th>2</th>\n",
       "      <td>ciaz</td>\n",
       "      <td>2017</td>\n",
       "      <td>7.25</td>\n",
       "      <td>9.85</td>\n",
       "      <td>6900</td>\n",
       "      <td>Petrol</td>\n",
       "      <td>Dealer</td>\n",
       "      <td>Manual</td>\n",
       "      <td>0</td>\n",
       "    </tr>\n",
       "    <tr>\n",
       "      <th>3</th>\n",
       "      <td>wagon r</td>\n",
       "      <td>2011</td>\n",
       "      <td>2.85</td>\n",
       "      <td>4.15</td>\n",
       "      <td>5200</td>\n",
       "      <td>Petrol</td>\n",
       "      <td>Dealer</td>\n",
       "      <td>Manual</td>\n",
       "      <td>0</td>\n",
       "    </tr>\n",
       "    <tr>\n",
       "      <th>4</th>\n",
       "      <td>swift</td>\n",
       "      <td>2014</td>\n",
       "      <td>4.60</td>\n",
       "      <td>6.87</td>\n",
       "      <td>42450</td>\n",
       "      <td>Diesel</td>\n",
       "      <td>Dealer</td>\n",
       "      <td>Manual</td>\n",
       "      <td>0</td>\n",
       "    </tr>\n",
       "  </tbody>\n",
       "</table>\n",
       "</div>"
      ],
      "text/plain": [
       "  Car_Name  Year  Selling_Price  Present_Price  Kms_Driven Fuel_Type  \\\n",
       "0     ritz  2014           3.35           5.59       27000    Petrol   \n",
       "1      sx4  2013           4.75           9.54       43000    Diesel   \n",
       "2     ciaz  2017           7.25           9.85        6900    Petrol   \n",
       "3  wagon r  2011           2.85           4.15        5200    Petrol   \n",
       "4    swift  2014           4.60           6.87       42450    Diesel   \n",
       "\n",
       "  Seller_Type Transmission  Owner  \n",
       "0      Dealer       Manual      0  \n",
       "1      Dealer       Manual      0  \n",
       "2      Dealer       Manual      0  \n",
       "3      Dealer       Manual      0  \n",
       "4      Dealer       Manual      0  "
      ]
     },
     "execution_count": 3,
     "metadata": {},
     "output_type": "execute_result"
    }
   ],
   "source": [
    "data = pd.read_csv('../datasets/car_data.csv')\n",
    "data.head()"
   ]
  },
  {
   "cell_type": "code",
   "execution_count": 8,
   "id": "7dc1fd80",
   "metadata": {},
   "outputs": [
    {
     "name": "stdout",
     "output_type": "stream",
     "text": [
      "['ritz' 'sx4' 'ciaz' 'wagon r' 'swift' 'vitara brezza' 's cross'\n",
      " 'alto 800' 'ertiga' 'dzire' 'alto k10' 'ignis' '800' 'baleno' 'omni'\n",
      " 'fortuner' 'innova' 'corolla altis' 'etios cross' 'etios g' 'etios liva'\n",
      " 'corolla' 'etios gd' 'camry' 'land cruiser' 'Royal Enfield Thunder 500'\n",
      " 'UM Renegade Mojave' 'KTM RC200' 'Bajaj Dominar 400'\n",
      " 'Royal Enfield Classic 350' 'KTM RC390' 'Hyosung GT250R'\n",
      " 'Royal Enfield Thunder 350' 'KTM 390 Duke ' 'Mahindra Mojo XT300'\n",
      " 'Bajaj Pulsar RS200' 'Royal Enfield Bullet 350'\n",
      " 'Royal Enfield Classic 500' 'Bajaj Avenger 220' 'Bajaj Avenger 150'\n",
      " 'Honda CB Hornet 160R' 'Yamaha FZ S V 2.0' 'Yamaha FZ 16'\n",
      " 'TVS Apache RTR 160' 'Bajaj Pulsar 150' 'Honda CBR 150' 'Hero Extreme'\n",
      " 'Bajaj Avenger 220 dtsi' 'Bajaj Avenger 150 street' 'Yamaha FZ  v 2.0'\n",
      " 'Bajaj Pulsar  NS 200' 'Bajaj Pulsar 220 F' 'TVS Apache RTR 180'\n",
      " 'Hero Passion X pro' 'Bajaj Pulsar NS 200' 'Yamaha Fazer '\n",
      " 'Honda Activa 4G' 'TVS Sport ' 'Honda Dream Yuga '\n",
      " 'Bajaj Avenger Street 220' 'Hero Splender iSmart' 'Activa 3g'\n",
      " 'Hero Passion Pro' 'Honda CB Trigger' 'Yamaha FZ S '\n",
      " 'Bajaj Pulsar 135 LS' 'Activa 4g' 'Honda CB Unicorn'\n",
      " 'Hero Honda CBZ extreme' 'Honda Karizma' 'Honda Activa 125' 'TVS Jupyter'\n",
      " 'Hero Honda Passion Pro' 'Hero Splender Plus' 'Honda CB Shine'\n",
      " 'Bajaj Discover 100' 'Suzuki Access 125' 'TVS Wego' 'Honda CB twister'\n",
      " 'Hero Glamour' 'Hero Super Splendor' 'Bajaj Discover 125' 'Hero Hunk'\n",
      " 'Hero  Ignitor Disc' 'Hero  CBZ Xtreme' 'Bajaj  ct 100' 'i20' 'grand i10'\n",
      " 'i10' 'eon' 'xcent' 'elantra' 'creta' 'verna' 'city' 'brio' 'amaze'\n",
      " 'jazz']\n",
      "301\n",
      "['Dealer' 'Individual']\n",
      "['Manual' 'Automatic']\n",
      "['Petrol' 'Diesel' 'CNG']\n"
     ]
    }
   ],
   "source": [
    "print(data['Car_Name'].unique())\n",
    "print(data.shape[0])\n",
    "print(data['Seller_Type'].unique())\n",
    "print(data['Transmission'].unique())\n",
    "print(data['Fuel_Type'].unique())"
   ]
  },
  {
   "cell_type": "code",
   "execution_count": 85,
   "id": "1aff0bea1c717b7b",
   "metadata": {
    "ExecuteTime": {
     "end_time": "2024-09-21T09:09:36.496470Z",
     "start_time": "2024-09-21T09:09:36.492826Z"
    }
   },
   "outputs": [],
   "source": [
    "X = data.drop(['Car_Name'], axis=1)\n",
    "y = data['Selling_Price']"
   ]
  },
  {
   "cell_type": "code",
   "execution_count": 86,
   "id": "e5d5aa7a9f7b05a",
   "metadata": {
    "ExecuteTime": {
     "end_time": "2024-09-21T09:09:36.542528Z",
     "start_time": "2024-09-21T09:09:36.538073Z"
    }
   },
   "outputs": [],
   "source": [
    "from sklearn.model_selection import train_test_split\n",
    "X_train, X_test, y_train, y_test = train_test_split(X, y, test_size=0.2)"
   ]
  },
  {
   "cell_type": "code",
   "execution_count": 87,
   "id": "8e08166e24bb68a8",
   "metadata": {
    "ExecuteTime": {
     "end_time": "2024-09-21T09:09:36.633496Z",
     "start_time": "2024-09-21T09:09:36.628872Z"
    }
   },
   "outputs": [
    {
     "name": "stdout",
     "output_type": "stream",
     "text": [
      "Columns with missing values in data:  []\n"
     ]
    }
   ],
   "source": [
    "print('Columns with missing values in data: ', list(X_train.columns[X_train.isnull().any()]))"
   ]
  },
  {
   "cell_type": "code",
   "execution_count": 88,
   "id": "ad57350642088e3b",
   "metadata": {
    "ExecuteTime": {
     "end_time": "2024-09-21T09:09:36.670686Z",
     "start_time": "2024-09-21T09:09:36.649674Z"
    }
   },
   "outputs": [
    {
     "name": "stdout",
     "output_type": "stream",
     "text": [
      "['Fuel_Type', 'Seller_Type', 'Transmission']\n",
      "   Year  Selling_Price  Present_Price  Kms_Driven  Owner  Fuel_Type_CNG  \\\n",
      "0  2008           0.17           0.52      500000      0            0.0   \n",
      "1  2014           7.20           9.90       48000      0            0.0   \n",
      "2  2015           4.00           7.00       40026      0            0.0   \n",
      "3  2013           6.95          18.61       40001      0            0.0   \n",
      "4  2017           0.45           0.51        4000      0            0.0   \n",
      "\n",
      "   Fuel_Type_Diesel  Fuel_Type_Petrol  Seller_Type_Dealer  \\\n",
      "0               0.0               1.0                 0.0   \n",
      "1               1.0               0.0                 1.0   \n",
      "2               0.0               1.0                 1.0   \n",
      "3               0.0               1.0                 1.0   \n",
      "4               0.0               1.0                 0.0   \n",
      "\n",
      "   Seller_Type_Individual  Transmission_Automatic  Transmission_Manual  \n",
      "0                     1.0                     1.0                  0.0  \n",
      "1                     0.0                     0.0                  1.0  \n",
      "2                     0.0                     0.0                  1.0  \n",
      "3                     0.0                     0.0                  1.0  \n",
      "4                     1.0                     1.0                  0.0  \n"
     ]
    }
   ],
   "source": [
    "from sklearn.preprocessing import OneHotEncoder\n",
    "\n",
    "# This function returns the dataframe with encoded features\n",
    "# @param dataframe - initial DataFrame\n",
    "# @param features_names - names of features (columns) that need to be encoded\n",
    "# @param encoder - encoder that should be used\n",
    "# @return new_dataframe - new DataFrame with encoded features\n",
    "def encode_features_one_hot(dataframe, features_names, encoder):\n",
    "    new_features = encoder.transform(dataframe[features_names])\n",
    "    new_columns_df = pd.DataFrame(new_features, columns = encoder.get_feature_names_out(features_names))\n",
    "    dataframe.reset_index(drop=True, inplace=True)\n",
    "    \n",
    "    new_columns_df.reset_index(drop=True, inplace=True) \n",
    "    new_dataframe = pd.concat([dataframe, new_columns_df], axis=1)\n",
    "    new_dataframe.drop(features_names, axis=1, inplace=True)\n",
    "    return new_dataframe\n",
    "\n",
    "# Encoding features\n",
    "encoder = OneHotEncoder(sparse_output=False)\n",
    "\n",
    "# Select columns that should be encoded (values are not numbers)\n",
    "features_names = list(X.select_dtypes(exclude='number').columns)\n",
    "print(features_names)\n",
    "\n",
    "encoder.fit(X_train[features_names])\n",
    "X_train = encode_features_one_hot(X_train, features_names, encoder)\n",
    "X_test = encode_features_one_hot(X_test, features_names, encoder)\n",
    "print(X_train.head())           "
   ]
  },
  {
   "cell_type": "code",
   "execution_count": 89,
   "id": "3aec0e29bf128d06",
   "metadata": {
    "ExecuteTime": {
     "end_time": "2024-09-21T09:09:36.811942Z",
     "start_time": "2024-09-21T09:09:36.788749Z"
    }
   },
   "outputs": [
    {
     "name": "stdout",
     "output_type": "stream",
     "text": [
      "Columns with missing values in data:  []\n",
      "Columns with missing values in data:  []\n"
     ]
    }
   ],
   "source": [
    "print('Columns with missing values in data: ', list(X_train.columns[X_train.isnull().any()]))\n",
    "print('Columns with missing values in data: ', list(X_test.columns[X_train.isnull().any()]))\n"
   ]
  },
  {
   "cell_type": "code",
   "execution_count": 90,
   "id": "5d069c400ae606cb",
   "metadata": {
    "ExecuteTime": {
     "end_time": "2024-09-21T09:09:36.885638Z",
     "start_time": "2024-09-21T09:09:36.825791Z"
    }
   },
   "outputs": [
    {
     "data": {
      "text/html": [
       "<div>\n",
       "<style scoped>\n",
       "    .dataframe tbody tr th:only-of-type {\n",
       "        vertical-align: middle;\n",
       "    }\n",
       "\n",
       "    .dataframe tbody tr th {\n",
       "        vertical-align: top;\n",
       "    }\n",
       "\n",
       "    .dataframe thead th {\n",
       "        text-align: right;\n",
       "    }\n",
       "</style>\n",
       "<table border=\"1\" class=\"dataframe\">\n",
       "  <thead>\n",
       "    <tr style=\"text-align: right;\">\n",
       "      <th></th>\n",
       "      <th>Year</th>\n",
       "      <th>Selling_Price</th>\n",
       "      <th>Present_Price</th>\n",
       "      <th>Kms_Driven</th>\n",
       "      <th>Owner</th>\n",
       "      <th>Fuel_Type_CNG</th>\n",
       "      <th>Fuel_Type_Diesel</th>\n",
       "      <th>Fuel_Type_Petrol</th>\n",
       "      <th>Seller_Type_Dealer</th>\n",
       "      <th>Seller_Type_Individual</th>\n",
       "      <th>Transmission_Automatic</th>\n",
       "      <th>Transmission_Manual</th>\n",
       "    </tr>\n",
       "  </thead>\n",
       "  <tbody>\n",
       "    <tr>\n",
       "      <th>0</th>\n",
       "      <td>0.866667</td>\n",
       "      <td>0.275076</td>\n",
       "      <td>0.369813</td>\n",
       "      <td>0.057504</td>\n",
       "      <td>0.000000</td>\n",
       "      <td>0.0</td>\n",
       "      <td>0.0</td>\n",
       "      <td>1.0</td>\n",
       "      <td>1.0</td>\n",
       "      <td>0.0</td>\n",
       "      <td>0.0</td>\n",
       "      <td>1.0</td>\n",
       "    </tr>\n",
       "    <tr>\n",
       "      <th>1</th>\n",
       "      <td>0.333333</td>\n",
       "      <td>0.004559</td>\n",
       "      <td>0.011974</td>\n",
       "      <td>0.051051</td>\n",
       "      <td>0.333333</td>\n",
       "      <td>0.0</td>\n",
       "      <td>0.0</td>\n",
       "      <td>1.0</td>\n",
       "      <td>0.0</td>\n",
       "      <td>1.0</td>\n",
       "      <td>0.0</td>\n",
       "      <td>1.0</td>\n",
       "    </tr>\n",
       "    <tr>\n",
       "      <th>2</th>\n",
       "      <td>0.800000</td>\n",
       "      <td>0.153495</td>\n",
       "      <td>0.149819</td>\n",
       "      <td>0.068663</td>\n",
       "      <td>0.000000</td>\n",
       "      <td>0.0</td>\n",
       "      <td>0.0</td>\n",
       "      <td>1.0</td>\n",
       "      <td>1.0</td>\n",
       "      <td>0.0</td>\n",
       "      <td>1.0</td>\n",
       "      <td>0.0</td>\n",
       "    </tr>\n",
       "    <tr>\n",
       "      <th>3</th>\n",
       "      <td>0.600000</td>\n",
       "      <td>0.088146</td>\n",
       "      <td>0.140072</td>\n",
       "      <td>0.106456</td>\n",
       "      <td>0.000000</td>\n",
       "      <td>0.0</td>\n",
       "      <td>0.0</td>\n",
       "      <td>1.0</td>\n",
       "      <td>1.0</td>\n",
       "      <td>0.0</td>\n",
       "      <td>0.0</td>\n",
       "      <td>1.0</td>\n",
       "    </tr>\n",
       "    <tr>\n",
       "      <th>4</th>\n",
       "      <td>0.666667</td>\n",
       "      <td>0.156535</td>\n",
       "      <td>0.266778</td>\n",
       "      <td>0.107592</td>\n",
       "      <td>0.000000</td>\n",
       "      <td>0.0</td>\n",
       "      <td>0.0</td>\n",
       "      <td>1.0</td>\n",
       "      <td>1.0</td>\n",
       "      <td>0.0</td>\n",
       "      <td>0.0</td>\n",
       "      <td>1.0</td>\n",
       "    </tr>\n",
       "    <tr>\n",
       "      <th>...</th>\n",
       "      <td>...</td>\n",
       "      <td>...</td>\n",
       "      <td>...</td>\n",
       "      <td>...</td>\n",
       "      <td>...</td>\n",
       "      <td>...</td>\n",
       "      <td>...</td>\n",
       "      <td>...</td>\n",
       "      <td>...</td>\n",
       "      <td>...</td>\n",
       "      <td>...</td>\n",
       "      <td>...</td>\n",
       "    </tr>\n",
       "    <tr>\n",
       "      <th>56</th>\n",
       "      <td>0.666667</td>\n",
       "      <td>0.005167</td>\n",
       "      <td>0.004177</td>\n",
       "      <td>0.041041</td>\n",
       "      <td>0.000000</td>\n",
       "      <td>0.0</td>\n",
       "      <td>0.0</td>\n",
       "      <td>1.0</td>\n",
       "      <td>0.0</td>\n",
       "      <td>1.0</td>\n",
       "      <td>0.0</td>\n",
       "      <td>1.0</td>\n",
       "    </tr>\n",
       "    <tr>\n",
       "      <th>57</th>\n",
       "      <td>0.800000</td>\n",
       "      <td>0.030699</td>\n",
       "      <td>0.032025</td>\n",
       "      <td>0.034034</td>\n",
       "      <td>0.000000</td>\n",
       "      <td>0.0</td>\n",
       "      <td>0.0</td>\n",
       "      <td>1.0</td>\n",
       "      <td>0.0</td>\n",
       "      <td>1.0</td>\n",
       "      <td>0.0</td>\n",
       "      <td>1.0</td>\n",
       "    </tr>\n",
       "    <tr>\n",
       "      <th>58</th>\n",
       "      <td>0.933333</td>\n",
       "      <td>0.011550</td>\n",
       "      <td>0.005291</td>\n",
       "      <td>0.007608</td>\n",
       "      <td>0.000000</td>\n",
       "      <td>0.0</td>\n",
       "      <td>0.0</td>\n",
       "      <td>1.0</td>\n",
       "      <td>0.0</td>\n",
       "      <td>1.0</td>\n",
       "      <td>1.0</td>\n",
       "      <td>0.0</td>\n",
       "    </tr>\n",
       "    <tr>\n",
       "      <th>59</th>\n",
       "      <td>0.733333</td>\n",
       "      <td>0.147416</td>\n",
       "      <td>0.199666</td>\n",
       "      <td>0.077077</td>\n",
       "      <td>0.000000</td>\n",
       "      <td>0.0</td>\n",
       "      <td>1.0</td>\n",
       "      <td>0.0</td>\n",
       "      <td>1.0</td>\n",
       "      <td>0.0</td>\n",
       "      <td>0.0</td>\n",
       "      <td>1.0</td>\n",
       "    </tr>\n",
       "    <tr>\n",
       "      <th>60</th>\n",
       "      <td>0.666667</td>\n",
       "      <td>0.164134</td>\n",
       "      <td>0.399889</td>\n",
       "      <td>0.143143</td>\n",
       "      <td>0.000000</td>\n",
       "      <td>0.0</td>\n",
       "      <td>0.0</td>\n",
       "      <td>1.0</td>\n",
       "      <td>1.0</td>\n",
       "      <td>0.0</td>\n",
       "      <td>0.0</td>\n",
       "      <td>1.0</td>\n",
       "    </tr>\n",
       "  </tbody>\n",
       "</table>\n",
       "<p>61 rows × 12 columns</p>\n",
       "</div>"
      ],
      "text/plain": [
       "        Year  Selling_Price  Present_Price  Kms_Driven     Owner  \\\n",
       "0   0.866667       0.275076       0.369813    0.057504  0.000000   \n",
       "1   0.333333       0.004559       0.011974    0.051051  0.333333   \n",
       "2   0.800000       0.153495       0.149819    0.068663  0.000000   \n",
       "3   0.600000       0.088146       0.140072    0.106456  0.000000   \n",
       "4   0.666667       0.156535       0.266778    0.107592  0.000000   \n",
       "..       ...            ...            ...         ...       ...   \n",
       "56  0.666667       0.005167       0.004177    0.041041  0.000000   \n",
       "57  0.800000       0.030699       0.032025    0.034034  0.000000   \n",
       "58  0.933333       0.011550       0.005291    0.007608  0.000000   \n",
       "59  0.733333       0.147416       0.199666    0.077077  0.000000   \n",
       "60  0.666667       0.164134       0.399889    0.143143  0.000000   \n",
       "\n",
       "    Fuel_Type_CNG  Fuel_Type_Diesel  Fuel_Type_Petrol  Seller_Type_Dealer  \\\n",
       "0             0.0               0.0               1.0                 1.0   \n",
       "1             0.0               0.0               1.0                 0.0   \n",
       "2             0.0               0.0               1.0                 1.0   \n",
       "3             0.0               0.0               1.0                 1.0   \n",
       "4             0.0               0.0               1.0                 1.0   \n",
       "..            ...               ...               ...                 ...   \n",
       "56            0.0               0.0               1.0                 0.0   \n",
       "57            0.0               0.0               1.0                 0.0   \n",
       "58            0.0               0.0               1.0                 0.0   \n",
       "59            0.0               1.0               0.0                 1.0   \n",
       "60            0.0               0.0               1.0                 1.0   \n",
       "\n",
       "    Seller_Type_Individual  Transmission_Automatic  Transmission_Manual  \n",
       "0                      0.0                     0.0                  1.0  \n",
       "1                      1.0                     0.0                  1.0  \n",
       "2                      0.0                     1.0                  0.0  \n",
       "3                      0.0                     0.0                  1.0  \n",
       "4                      0.0                     0.0                  1.0  \n",
       "..                     ...                     ...                  ...  \n",
       "56                     1.0                     0.0                  1.0  \n",
       "57                     1.0                     0.0                  1.0  \n",
       "58                     1.0                     1.0                  0.0  \n",
       "59                     0.0                     0.0                  1.0  \n",
       "60                     0.0                     0.0                  1.0  \n",
       "\n",
       "[61 rows x 12 columns]"
      ]
     },
     "execution_count": 90,
     "metadata": {},
     "output_type": "execute_result"
    }
   ],
   "source": [
    "from sklearn.preprocessing import MinMaxScaler\n",
    "\n",
    "# Scaling data\n",
    "scaler = MinMaxScaler()\n",
    "scaler.fit(X_train)\n",
    "\n",
    "# Apply the scaler on both train and test features\n",
    "X_train = pd.DataFrame(scaler.transform(X_train), columns = X_train.columns)\n",
    "X_test = pd.DataFrame(scaler.transform(X_test), columns = X_test.columns)\n",
    "X_test"
   ]
  },
  {
   "cell_type": "code",
   "execution_count": 91,
   "id": "3dc1a845c1662f00",
   "metadata": {
    "ExecuteTime": {
     "end_time": "2024-09-21T09:09:36.901592Z",
     "start_time": "2024-09-21T09:09:36.889489Z"
    }
   },
   "outputs": [
    {
     "name": "stdout",
     "output_type": "stream",
     "text": [
      "Mean squared error:  2.2548440490043326e-28\n",
      "R2 score:  1.0\n"
     ]
    }
   ],
   "source": [
    "from sklearn.linear_model import LinearRegression\n",
    "\n",
    "# Create a model\n",
    "model = LinearRegression()\n",
    "model.fit(X_train, y_train)\n",
    "\n",
    "# Predict the values    \n",
    "y_pred = model.predict(X_test)  \n",
    "\n",
    "# Calculate the error   \n",
    "from sklearn.metrics import mean_squared_error, r2_score\n",
    "error = mean_squared_error(y_test, y_pred) \n",
    "print('Mean squared error: ', error)\n",
    "r2 = r2_score(y_test, y_pred)\n",
    "print('R2 score: ', r2)"
   ]
  }
 ],
 "metadata": {
  "kernelspec": {
   "display_name": "Python 3",
   "language": "python",
   "name": "python3"
  },
  "language_info": {
   "codemirror_mode": {
    "name": "ipython",
    "version": 3
   },
   "file_extension": ".py",
   "mimetype": "text/x-python",
   "name": "python",
   "nbconvert_exporter": "python",
   "pygments_lexer": "ipython3",
   "version": "3.9.2"
  }
 },
 "nbformat": 4,
 "nbformat_minor": 5
}
